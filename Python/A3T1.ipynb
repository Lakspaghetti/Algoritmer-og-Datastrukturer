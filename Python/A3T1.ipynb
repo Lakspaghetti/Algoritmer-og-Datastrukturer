{
 "cells": [
  {
   "cell_type": "code",
   "execution_count": 49,
   "metadata": {},
   "outputs": [
    {
     "name": "stdout",
     "output_type": "stream",
     "text": [
      "[21, 29, 21, 21, 22]\n",
      "[21, 21, 32, 21, 123]\n"
     ]
    },
    {
     "data": {
      "text/plain": [
       "True"
      ]
     },
     "execution_count": 49,
     "metadata": {},
     "output_type": "execute_result"
    }
   ],
   "source": [
    "def Min_beers_for_danish_drivers(p, b, target):\n",
    "    for i in range(len(p) - 1):\n",
    "        if b[i] < target:\n",
    "            b[i+1] = b[i+1] - (target - b[i] + 2 * (p[i+1] - p[i]))\n",
    "            b[i] = b[i] + (target - b[i])\n",
    "        elif b[i] - (2 * (p[i+1] - p[i]) + 1) > target:\n",
    "            b[i+1] = b[i+1] + ((b[i] - target) - 2 * (p[i+1] - p[i]))\n",
    "            b[i] = b[i] - (b[i] - target)\n",
    "        else:\n",
    "            continue\n",
    "\n",
    "    print(b)\n",
    "    for j in b:\n",
    "        if j < target:\n",
    "            return False\n",
    "            \n",
    "    return True\n",
    "\n",
    "b = [20, 40, 80, 10, 20]\n",
    "b2 = [0, 0, 100, 150, 0]\n",
    "p = [0, 5, 13, 33, 36]\n",
    "t = 21\n",
    "\n",
    "Min_beers_for_danish_drivers(p, b, t)\n",
    "Min_beers_for_danish_drivers(p, b2, t)"
   ]
  }
 ],
 "metadata": {
  "interpreter": {
   "hash": "31f2aee4e71d21fbe5cf8b01ff0e069b9275f58929596ceb00d14d90e3e16cd6"
  },
  "kernelspec": {
   "display_name": "Python 3.8.10 64-bit",
   "language": "python",
   "name": "python3"
  },
  "language_info": {
   "codemirror_mode": {
    "name": "ipython",
    "version": 3
   },
   "file_extension": ".py",
   "mimetype": "text/x-python",
   "name": "python",
   "nbconvert_exporter": "python",
   "pygments_lexer": "ipython3",
   "version": "3.8.10"
  },
  "orig_nbformat": 4
 },
 "nbformat": 4,
 "nbformat_minor": 2
}
